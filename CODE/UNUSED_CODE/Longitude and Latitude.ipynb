{
 "cells": [
  {
   "cell_type": "code",
   "execution_count": 2,
   "metadata": {
    "collapsed": false
   },
   "outputs": [],
   "source": [
    "import pandas as pd\n",
    "import xml.etree.cElementTree as et\n",
    "US_state_loglat = pd.read_csv('US_Regions_State_Boundaries.csv', sep=',', names = ['Region', 'name', 'id', 'geometry', 'Color'])\n",
    "USloglatdf = US_state_loglat[US_state_loglat['Region'] != 'Region']"
   ]
  },
  {
   "cell_type": "code",
   "execution_count": 3,
   "metadata": {
    "collapsed": false
   },
   "outputs": [],
   "source": [
    "from __future__ import absolute_import\n",
    "\n",
    "import csv\n",
    "import codecs\n",
    "import gzip\n",
    "import xml.etree.cElementTree as et\n",
    "from os.path import dirname, join\n",
    "\n",
    "nan = float('NaN')\n",
    "\n",
    "data = {}\n",
    "with gzip.open('US_Regions_State_Boundaries.csv.gz') as f:\n",
    "    decoded = codecs.iterdecode(f, \"utf-8\")\n",
    "    next(decoded)\n",
    "    reader = csv.reader(decoded, delimiter=',', quotechar='\"')\n",
    "    for row in reader:\n",
    "        region, name, code, geometry, dummy = row\n",
    "        xml = et.fromstring(geometry)\n",
    "        lats = []\n",
    "        lons = []\n",
    "        for i, poly in enumerate(xml.findall('.//outerBoundaryIs/LinearRing/coordinates')):\n",
    "            if i > 0:\n",
    "                lats.append(nan)\n",
    "                lons.append(nan)\n",
    "            coords = (c.split(',')[:2] for c in poly.text.split())\n",
    "            lat, lon = list(zip(*[(float(lat), float(lon)) for lon, lat in\n",
    "                coords]))\n",
    "            lats.extend(lat)\n",
    "            lons.extend(lon)\n",
    "        data[code] = {\n",
    "            'name'   : name,\n",
    "            'region' : region,\n",
    "            'lats'   : lats,\n",
    "            'lons'   : lons,\n",
    "        }\n",
    "\n",
    "latslons = pd.DataFrame.from_dict(data, orient = 'index')"
   ]
  },
  {
   "cell_type": "code",
   "execution_count": 4,
   "metadata": {
    "collapsed": true
   },
   "outputs": [],
   "source": [
    "latslons.to_csv('LatsLonsState.csv')"
   ]
  }
 ],
 "metadata": {
  "kernelspec": {
   "display_name": "Python 3",
   "language": "python",
   "name": "python3"
  },
  "language_info": {
   "codemirror_mode": {
    "name": "ipython",
    "version": 3
   },
   "file_extension": ".py",
   "mimetype": "text/x-python",
   "name": "python",
   "nbconvert_exporter": "python",
   "pygments_lexer": "ipython3",
   "version": "3.5.2"
  }
 },
 "nbformat": 4,
 "nbformat_minor": 0
}
